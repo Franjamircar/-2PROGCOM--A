{
  "nbformat": 4,
  "nbformat_minor": 0,
  "metadata": {
    "colab": {
      "provenance": []
    },
    "kernelspec": {
      "name": "python3",
      "display_name": "Python 3"
    },
    "language_info": {
      "name": "python"
    }
  },
  "cells": [
    {
      "cell_type": "markdown",
      "source": [
        "#Funciones"
      ],
      "metadata": {
        "id": "eS8NWwgK0mms"
      }
    },
    {
      "cell_type": "markdown",
      "source": [
        "def (nombre cualquiera)(parámetros o argumentos):\n",
        "  Lo que va dentro de la función \n"
      ],
      "metadata": {
        "id": "H7hA0tgq0wMK"
      }
    },
    {
      "cell_type": "markdown",
      "source": [
        "Tipos de funciones:\n",
        "\n",
        "1.   Sin paramentros, sin retorno\n",
        "def manuel():\n",
        "  print(\"Tome sus 5\")\n",
        "2.   Sin parámetros, con retorno\n",
        "def nicolas():\n",
        "  print(\"Hola Nicolás\")\n",
        "  a=5\n",
        "  return a\n",
        "3. Con parámetros, sin retorno\n",
        "def holitas(a,\"b\",x=False):\n",
        "  int a \n",
        "  b=string\n",
        "  x=boolean\n",
        "  print(\"Hola Nicolás\")\n",
        "  a=5\n",
        "4. Con parámetros, con retorno\n",
        "def holitas(a,\"b\",x=False):\n",
        "  int a\n",
        "  b=string\n",
        "  x=boolean\n",
        "  print(\"Hola Nicolás\")\n",
        "  a=5\n",
        "  return a\n",
        "\n"
      ],
      "metadata": {
        "id": "nYUZO_G00-If"
      }
    },
    {
      "cell_type": "code",
      "execution_count": 9,
      "metadata": {
        "colab": {
          "base_uri": "https://localhost:8080/"
        },
        "id": "bNgPZ6iTzx2y",
        "outputId": "557c4291-e5e2-4da0-eca2-c62c7059e909"
      },
      "outputs": [
        {
          "output_type": "stream",
          "name": "stdout",
          "text": [
            "Chupa chupa\n",
            "Pero bien\n"
          ]
        }
      ],
      "source": [
        "def salude():\n",
        "  print(\"Saludar\")\n",
        "  print(\"Es de cracks\")\n",
        "salude()"
      ]
    },
    {
      "cell_type": "code",
      "source": [
        "def balondeoro():\n",
        "  x=input(\"Quién lo va a ganar?\")\n",
        "  if x!=\"benzema\":\n",
        "    print(\"SAPO\")\n",
        "  else: \n",
        "    print(\"muy bien\")\n",
        "balondeoro()"
      ],
      "metadata": {
        "colab": {
          "base_uri": "https://localhost:8080/"
        },
        "id": "WxVzFSoH4wTr",
        "outputId": "1b275f41-825a-475f-caea-960de4f3b280"
      },
      "execution_count": 15,
      "outputs": [
        {
          "output_type": "stream",
          "name": "stdout",
          "text": [
            "Quién lo va a ganar?benzema\n",
            "muy bien\n"
          ]
        }
      ]
    },
    {
      "cell_type": "code",
      "source": [
        "a=int(input(\"Mosa mosa así bosse me mata\"))\n",
        "b=int(input(\"Mosa mosa así bosse me mata\"))\n",
        "c=int(input(\"Mosa mosa así bosse me mata\"))\n",
        "if a!=b and a!=c and b!=c:\n",
        "  if a>b and a>c:\n",
        "    if b>c:\n",
        "      print(a,\"es el mayor\")\n",
        "      print(b,\"es el del medio\")\n",
        "      print(c,\"mucho menor!\")\n",
        "    else:\n",
        "      print(a,\"es el mayor\")\n",
        "      print(b,\"es el del medio\")\n",
        "      print(c,\"mucho menor!\") \n",
        "  elif b>a and b<c:\n",
        "    if a>c:\n",
        "      print(b,\"es el mayor\")\n",
        "      print(a,\"es el del medio\")\n",
        "      print(c,\"mucho menor!\")\n",
        "    else:\n",
        "      print(b,\"es el mayor\")\n",
        "      print(c,\"es el del medio\")\n",
        "      print(a,\"mucho menor!\")\n",
        "  if c>a and c>b:\n",
        "    if a>c:\n",
        "      print(c,\"es el mayor\")\n",
        "      print(a,\"es el del medio\")\n",
        "      print(b,\"mucho menor!\")\n",
        "    else:\n",
        "      print(c,\"es el mayor\")\n",
        "      print(b,\"es el del medio\")\n",
        "      print(a,\"mucho menor!\")\n"
      ],
      "metadata": {
        "id": "JrI3HDnY5SF2"
      },
      "execution_count": null,
      "outputs": []
    },
    {
      "cell_type": "code",
      "source": [
        "#funación sin parámetros con retorno \n",
        "def imprimalo(a,b,c):\n",
        "    print(a,\"es el mayor\")\n",
        "    print(b,\"es el del medio\")\n",
        "    print(c,\"mucho menor!\")\n"
      ],
      "metadata": {
        "id": "wsGhfdAS7Aic"
      },
      "execution_count": 18,
      "outputs": []
    },
    {
      "cell_type": "code",
      "source": [
        "def comparar(a,b,c):\n",
        "  if a!=b and a!=c and b!=c:\n",
        "   if a>b and a>c:\n",
        "     if b>c:\n",
        "       imprimalo(a,b,c)\n",
        "     else:\n",
        "       imprimalo(a,c,b)\n",
        "   elif b>a and b<c:\n",
        "     if a>c:\n",
        "       imprimalo(b,a,c)\n",
        "     else:\n",
        "       imprimalo(b,c,a)\n",
        "   if c>a and c>b:\n",
        "     if a>c:\n",
        "       imprimalo(c,a,b)\n",
        "     else:\n",
        "       imprimalo(c,b,a)"
      ],
      "metadata": {
        "id": "s6oLsDSHAt1b"
      },
      "execution_count": 24,
      "outputs": []
    },
    {
      "cell_type": "code",
      "source": [
        "a=int(input(\"Mosa mosa así bosse me mata\"))\n",
        "b=int(input(\"Mosa mosa así bosse me mata\"))\n",
        "c=int(input(\"Mosa mosa así bosse me mata\"))\n",
        "comparar(c,b,a)"
      ],
      "metadata": {
        "colab": {
          "base_uri": "https://localhost:8080/"
        },
        "id": "XiUNmbgR7tmc",
        "outputId": "9db3292f-9425-46e8-b229-448ca1df080e"
      },
      "execution_count": 27,
      "outputs": [
        {
          "output_type": "stream",
          "name": "stdout",
          "text": [
            "Mosa mosa así bosse me mata2\n",
            "Mosa mosa así bosse me mata4\n",
            "Mosa mosa así bosse me mata5\n",
            "5 es el mayor\n",
            "4 es el del medio\n",
            "2 mucho menor!\n"
          ]
        }
      ]
    },
    {
      "cell_type": "code",
      "source": [],
      "metadata": {
        "id": "bgweIybKHJRz"
      },
      "execution_count": null,
      "outputs": []
    }
  ]
}