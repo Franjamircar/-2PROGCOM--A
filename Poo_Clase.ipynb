{
  "nbformat": 4,
  "nbformat_minor": 0,
  "metadata": {
    "colab": {
      "provenance": []
    },
    "kernelspec": {
      "name": "python3",
      "display_name": "Python 3"
    },
    "language_info": {
      "name": "python"
    }
  },
  "cells": [
    {
      "cell_type": "code",
      "execution_count": 2,
      "metadata": {
        "id": "_qvO_MhLPE3M"
      },
      "outputs": [],
      "source": [
        "class Empleado():\n",
        "  def __init__(self,ñombre,edad,id,salario):\n",
        "    self.ñombre=ñombre\n",
        "    self.edad=edad\n",
        "    self.id=id\n",
        "    self.salario=salario"
      ]
    },
    {
      "cell_type": "markdown",
      "source": [
        "#POO\n",
        "Clase es como un mole\n",
        "\n",
        "*Variables-->Atributos\n",
        "*Funciones-->Métodos\n",
        "*Constructor---> constituye una clase\n",
        "*Objetos: comparten atributos, métodos, relaciones que tienen una identidad propia"
      ],
      "metadata": {
        "id": "9zOYa18cPTs1"
      }
    },
    {
      "cell_type": "code",
      "source": [
        "class animales():\n",
        "  pass"
      ],
      "metadata": {
        "id": "u4yF9n8lPRM5"
      },
      "execution_count": 3,
      "outputs": []
    },
    {
      "cell_type": "code",
      "source": [
        "a=animales\n",
        "b=animales"
      ],
      "metadata": {
        "id": "8vP8EHllPXoF"
      },
      "execution_count": null,
      "outputs": []
    },
    {
      "cell_type": "code",
      "source": [
        "if a==b:\n",
        "  print(\"Son iguañitos\")\n",
        "else:\n",
        "  print(\"No son iguañitos\")"
      ],
      "metadata": {
        "id": "Eb3khblxPbgg"
      },
      "execution_count": null,
      "outputs": []
    },
    {
      "cell_type": "code",
      "source": [
        "class Empleado():\n",
        "  def __init__(self,ñombre,edad,ID,salario):\n",
        "    self.ñombre=ñombre\n",
        "    self.edad=edad\n",
        "    self.ID=ID\n",
        "    self.salario=salario\n",
        "  def __repr__(self):\n",
        "    return f\"nombre:{ernesto.ñombre}, edad:{self.edad},ID:{self.ID},salario={self.salario}\""
      ],
      "metadata": {
        "id": "hvwBCuVNPhUA"
      },
      "execution_count": 9,
      "outputs": []
    },
    {
      "cell_type": "code",
      "source": [
        "ernesto=Empleado(\"Ernesto\",25,\"U00158822\",200000)"
      ],
      "metadata": {
        "id": "ChtLOMHTPuhD"
      },
      "execution_count": 12,
      "outputs": []
    },
    {
      "cell_type": "code",
      "source": [
        "print(ernesto)"
      ],
      "metadata": {
        "colab": {
          "base_uri": "https://localhost:8080/"
        },
        "id": "O14GCj6JP1D_",
        "outputId": "edd9ef14-b8dd-4143-a25f-7dbd62f5c98e"
      },
      "execution_count": 13,
      "outputs": [
        {
          "output_type": "stream",
          "name": "stdout",
          "text": [
            "nombre:Ernesto, edad:25,ID:U00158822,salario=200000\n"
          ]
        }
      ]
    },
    {
      "cell_type": "code",
      "source": [
        "mipanamiguel=Empleado(\"Mipanamiguel\",83,\"U001523246\",1000000)"
      ],
      "metadata": {
        "id": "jSEG9euiQH0P"
      },
      "execution_count": 16,
      "outputs": []
    },
    {
      "cell_type": "code",
      "source": [
        "if ernesto.salario==mipanamiguel.salario:\n",
        "  print(f\"El salario de {mipanamiguel.ñombre} y {ernesto.ñombre} son iguales\")\n",
        "elif ernesto.salario>mipanamiguel.salario:\n",
        "  print(f\"El salario de {mipanamiguel.ñombre} es menor al de {ernesto.ñombre}\")\n",
        "else:\n",
        "  print(f\"El salario de {mipanamiguel.ñombre} es mayor al de {ernesto.ñombre}\")"
      ],
      "metadata": {
        "colab": {
          "base_uri": "https://localhost:8080/"
        },
        "id": "YgLd0it-QST0",
        "outputId": "db4cae96-6f2b-4032-bf9a-7d21973112a5"
      },
      "execution_count": 18,
      "outputs": [
        {
          "output_type": "stream",
          "name": "stdout",
          "text": [
            "El salario de Mipanamiguel es mayor al de Ernesto\n"
          ]
        }
      ]
    },
    {
      "cell_type": "code",
      "source": [
        "class Fraccion:\n",
        "  num=0\n",
        "  den=1\n",
        "\n",
        "  def __init__(self,num=0,den=1):\n",
        "    self.num=num\n",
        "    self.den=den\n",
        "\n",
        "  def mulltiplica(self,b):\n",
        "    num=self.num*b.num\n",
        "    den=self.dem*b.num"
      ],
      "metadata": {
        "id": "2UunDULZQtKJ"
      },
      "execution_count": 19,
      "outputs": []
    },
    {
      "cell_type": "markdown",
      "source": [],
      "metadata": {
        "id": "oaWFrNFMP0lR"
      }
    }
  ]
}