{
  "nbformat": 4,
  "nbformat_minor": 0,
  "metadata": {
    "colab": {
      "provenance": []
    },
    "kernelspec": {
      "name": "python3",
      "display_name": "Python 3"
    },
    "language_info": {
      "name": "python"
    }
  },
  "cells": [
    {
      "cell_type": "markdown",
      "source": [
        "#Ejercicios de métodos"
      ],
      "metadata": {
        "id": "_gIO2El5m-Yh"
      }
    },
    {
      "cell_type": "code",
      "execution_count": 15,
      "metadata": {
        "id": "3m4J2Y7ImpJx"
      },
      "outputs": [],
      "source": [
        "def npc(a,b):\n",
        "  if a>b:\n",
        "    print(f\"{a} es el mayor\")\n",
        "  else:\n",
        "    print(b,\" es el mayor\")"
      ]
    },
    {
      "cell_type": "code",
      "source": [
        "print(npc(4,5))"
      ],
      "metadata": {
        "colab": {
          "base_uri": "https://localhost:8080/"
        },
        "id": "B9wMQodTnXya",
        "outputId": "e3e4e5ca-8811-4e1b-b8ea-7bd28bb8e9c9"
      },
      "execution_count": 11,
      "outputs": [
        {
          "output_type": "stream",
          "name": "stdout",
          "text": [
            "5  es el mayor\n",
            "None\n"
          ]
        }
      ]
    },
    {
      "cell_type": "code",
      "source": [
        "def mayor(x,y,z):\n",
        "  npc(x+npc(y,z))"
      ],
      "metadata": {
        "id": "fsxcDs_Kno52"
      },
      "execution_count": 12,
      "outputs": []
    },
    {
      "cell_type": "code",
      "source": [
        "print(mayor(4,5,6))"
      ],
      "metadata": {
        "id": "0P_gxRIooEZx"
      },
      "execution_count": null,
      "outputs": []
    },
    {
      "cell_type": "code",
      "source": [
        "lista=[3,4,5]\n",
        "def sumatoria():\n",
        "  sum(lista)\n",
        "  print(sum(lista))"
      ],
      "metadata": {
        "id": "Zv6JlXAbpysp"
      },
      "execution_count": 28,
      "outputs": []
    },
    {
      "cell_type": "code",
      "source": [
        "sumatoria()"
      ],
      "metadata": {
        "colab": {
          "base_uri": "https://localhost:8080/"
        },
        "id": "Mk5Ml62PqIv6",
        "outputId": "a057106c-46ee-4749-fffc-1cb06ce140cf"
      },
      "execution_count": 29,
      "outputs": [
        {
          "output_type": "stream",
          "name": "stdout",
          "text": [
            "12\n"
          ]
        }
      ]
    },
    {
      "cell_type": "code",
      "source": [
        "lista2=[3,4,5,6]\n",
        "def sumatoria2():\n",
        "  sum(lista2)\n",
        "  print(sum(lista2))\n",
        "sumatoria2()"
      ],
      "metadata": {
        "colab": {
          "base_uri": "https://localhost:8080/"
        },
        "id": "LYF1oLa5q4W6",
        "outputId": "cbd68a16-bac8-47d5-9cad-82ff587ccb2e"
      },
      "execution_count": 31,
      "outputs": [
        {
          "output_type": "stream",
          "name": "stdout",
          "text": [
            "18\n"
          ]
        }
      ]
    },
    {
      "cell_type": "code",
      "source": [
        "lista3=[8,5,3,1]\n",
        "def sumatoria3():\n",
        "  sum(lista3)\n",
        "  print(sum(lista3))\n",
        "sumatoria3()"
      ],
      "metadata": {
        "colab": {
          "base_uri": "https://localhost:8080/"
        },
        "id": "gCLBdC-3rQ6b",
        "outputId": "3caa70a3-02df-4515-b499-9ad881b90ee0"
      },
      "execution_count": 32,
      "outputs": [
        {
          "output_type": "stream",
          "name": "stdout",
          "text": [
            "17\n"
          ]
        }
      ]
    },
    {
      "cell_type": "code",
      "source": [
        "from ast import Mult\n",
        "lista4=[0,4,5]\n",
        "def multi():\n",
        "  r1=lista4[0]*lista4[1]\n",
        "  r2=r1*lista4[2]\n",
        "  print(r2)\n",
        "multi()"
      ],
      "metadata": {
        "colab": {
          "base_uri": "https://localhost:8080/"
        },
        "id": "ZgC7IwYsrhCS",
        "outputId": "095bc60c-1a0f-45a8-dd9e-e5eeed153bf6"
      },
      "execution_count": 42,
      "outputs": [
        {
          "output_type": "stream",
          "name": "stdout",
          "text": [
            "0\n"
          ]
        }
      ]
    },
    {
      "cell_type": "code",
      "source": [
        "lista5=[3,4,5,1]\n",
        "def multi():\n",
        "  r1=lista5[0]*lista5[1]\n",
        "  r2=r1*lista5[2]\n",
        "  r3=r2*lista5[3]\n",
        "  print(r3)\n",
        "multi()"
      ],
      "metadata": {
        "colab": {
          "base_uri": "https://localhost:8080/"
        },
        "id": "wyOKXVI5tT70",
        "outputId": "e52563e7-8fcd-49de-faf2-8286be7ac014"
      },
      "execution_count": 43,
      "outputs": [
        {
          "output_type": "stream",
          "name": "stdout",
          "text": [
            "60\n"
          ]
        }
      ]
    },
    {
      "cell_type": "code",
      "source": [
        "lista6=[1,2,3,-1]\n",
        "def multi():\n",
        "  r1=lista6[0]*lista6[1]\n",
        "  r2=r1*lista6[2]\n",
        "  r3=r2*lista6[3]\n",
        "  print(r3)\n",
        "multi()"
      ],
      "metadata": {
        "colab": {
          "base_uri": "https://localhost:8080/"
        },
        "id": "NNz_LcOjtot7",
        "outputId": "051486c8-44e2-4dfa-eed4-665e37b8f65d"
      },
      "execution_count": 44,
      "outputs": [
        {
          "output_type": "stream",
          "name": "stdout",
          "text": [
            "-6\n"
          ]
        }
      ]
    },
    {
      "cell_type": "code",
      "source": [
        "x=\"Hola\"\n",
        "def devolvición():\n",
        "  devuelta= x[-1]+x[2]+x[1]+x[0]\n",
        "  print(devuelta)\n",
        "devolvición()"
      ],
      "metadata": {
        "colab": {
          "base_uri": "https://localhost:8080/"
        },
        "id": "yY4New9fuKiE",
        "outputId": "5687acd9-cf1c-4d53-86d7-069658e714ab"
      },
      "execution_count": 48,
      "outputs": [
        {
          "output_type": "stream",
          "name": "stdout",
          "text": [
            "aloH\n"
          ]
        }
      ]
    },
    {
      "cell_type": "code",
      "source": [
        "x=int(input(\"Ingrese un número\"))\n",
        "y=0\n",
        "def factorial():\n",
        "  while y==13:\n",
        "   for i in range(1,x):\n",
        "     multi= 1*(y+1)\n",
        "print(multi)"
      ],
      "metadata": {
        "colab": {
          "base_uri": "https://localhost:8080/"
        },
        "id": "4AL5n1r0vUid",
        "outputId": "ccb44f2b-6617-4470-c7a5-f1c277d52c22"
      },
      "execution_count": 51,
      "outputs": [
        {
          "output_type": "stream",
          "name": "stdout",
          "text": [
            "Ingrese un número10\n",
            "<function multi at 0x7fbf342d6290>\n"
          ]
        }
      ]
    },
    {
      "cell_type": "code",
      "source": [
        "rango=[1,2,3,4,5,6,7,8,9]\n",
        "def mirar():\n",
        "  x=int(input((\"ingrese un numero\")))\n",
        "  if x in rango:\n",
        "    print(\"Está en el rango\")\n",
        "  else:\n",
        "    print(\"Ñao ñao voce no hable\")\n",
        "mirar()"
      ],
      "metadata": {
        "colab": {
          "base_uri": "https://localhost:8080/"
        },
        "id": "IE_ofnyayTY_",
        "outputId": "bb1f9715-28db-4ee2-87a7-8224b44a4726"
      },
      "execution_count": 55,
      "outputs": [
        {
          "output_type": "stream",
          "name": "stdout",
          "text": [
            "ingrese un numero11\n",
            "Ñao ñao voce no hable\n"
          ]
        }
      ]
    },
    {
      "cell_type": "code",
      "source": [
        "lista=[]\n",
        "def orar():\n",
        "  x=input(\"Decí una palabra\")\n",
        "  y=int(input(\"número de letras q lleva\"))\n",
        "  x.append(lista)\n",
        "  for x.islower in lista:\n",
        "    sum(lista)\n",
        "\n",
        "\n",
        "orar()"
      ],
      "metadata": {
        "colab": {
          "base_uri": "https://localhost:8080/",
          "height": 339
        },
        "id": "OH8-_nySy2-T",
        "outputId": "992b6078-599d-4470-99cb-f813e865578a"
      },
      "execution_count": 61,
      "outputs": [
        {
          "name": "stdout",
          "output_type": "stream",
          "text": [
            "Decí una frase chavalhOla\n"
          ]
        },
        {
          "output_type": "error",
          "ename": "AttributeError",
          "evalue": "ignored",
          "traceback": [
            "\u001b[0;31m---------------------------------------------------------------------------\u001b[0m",
            "\u001b[0;31mAttributeError\u001b[0m                            Traceback (most recent call last)",
            "\u001b[0;32m<ipython-input-61-2233b7ffbc35>\u001b[0m in \u001b[0;36m<module>\u001b[0;34m\u001b[0m\n\u001b[1;32m      7\u001b[0m \u001b[0;34m\u001b[0m\u001b[0m\n\u001b[1;32m      8\u001b[0m \u001b[0;34m\u001b[0m\u001b[0m\n\u001b[0;32m----> 9\u001b[0;31m \u001b[0morar\u001b[0m\u001b[0;34m(\u001b[0m\u001b[0;34m)\u001b[0m\u001b[0;34m\u001b[0m\u001b[0;34m\u001b[0m\u001b[0m\n\u001b[0m",
            "\u001b[0;32m<ipython-input-61-2233b7ffbc35>\u001b[0m in \u001b[0;36morar\u001b[0;34m()\u001b[0m\n\u001b[1;32m      2\u001b[0m \u001b[0;32mdef\u001b[0m \u001b[0morar\u001b[0m\u001b[0;34m(\u001b[0m\u001b[0;34m)\u001b[0m\u001b[0;34m:\u001b[0m\u001b[0;34m\u001b[0m\u001b[0;34m\u001b[0m\u001b[0m\n\u001b[1;32m      3\u001b[0m   \u001b[0mx\u001b[0m\u001b[0;34m=\u001b[0m\u001b[0minput\u001b[0m\u001b[0;34m(\u001b[0m\u001b[0;34m\"Decí una frase chaval\"\u001b[0m\u001b[0;34m)\u001b[0m\u001b[0;34m\u001b[0m\u001b[0;34m\u001b[0m\u001b[0m\n\u001b[0;32m----> 4\u001b[0;31m   \u001b[0mx\u001b[0m\u001b[0;34m.\u001b[0m\u001b[0mappend\u001b[0m\u001b[0;34m(\u001b[0m\u001b[0mlista\u001b[0m\u001b[0;34m)\u001b[0m\u001b[0;34m\u001b[0m\u001b[0;34m\u001b[0m\u001b[0m\n\u001b[0m\u001b[1;32m      5\u001b[0m   \u001b[0;32mfor\u001b[0m \u001b[0mx\u001b[0m\u001b[0;34m.\u001b[0m\u001b[0mislower\u001b[0m \u001b[0;32min\u001b[0m \u001b[0mlista\u001b[0m\u001b[0;34m:\u001b[0m\u001b[0;34m\u001b[0m\u001b[0;34m\u001b[0m\u001b[0m\n\u001b[1;32m      6\u001b[0m     \u001b[0msum\u001b[0m\u001b[0;34m(\u001b[0m\u001b[0mlista\u001b[0m\u001b[0;34m)\u001b[0m\u001b[0;34m\u001b[0m\u001b[0;34m\u001b[0m\u001b[0m\n",
            "\u001b[0;31mAttributeError\u001b[0m: 'str' object has no attribute 'append'"
          ]
        }
      ]
    },
    {
      "cell_type": "code",
      "source": [
        "print(\"si\")\n",
        "p=str(input())\n",
        "def palindromo():\n",
        "  if(p)==(p)[::-1]:\n",
        "    print(p+\" si es palíndromo\")\n",
        "  else:\n",
        "    print(p+\"ñao ñao\")"
      ],
      "metadata": {
        "id": "nILpHHVQ3CJP"
      },
      "execution_count": null,
      "outputs": []
    },
    {
      "cell_type": "code",
      "source": [
        "lista=[]\n",
        "x=int(input(\"Digalo\"))\n",
        "lista.append(x)\n",
        "y=int(input(\"Digalo\"))\n",
        "lista.append(y)\n",
        "z=int(input(\"Digalo\"))\n",
        "lista.append(x)\n",
        "def siwi():\n",
        "\n",
        "  if lista[0] %2==0:\n",
        "    print(lista[0],\"Es par\")\n",
        "  if lista[1]%2==0:\n",
        "    print(lista[1],\"Es par\")\n",
        "  if lista[2]%2==0:\n",
        "    print(lista[2],\"Es par\")\n",
        "  if lista[3]%2==0:\n",
        "    print(lista[3],\"Es par\")\n",
        "  else:\n",
        "    print(\"ninguno es par\")\n",
        "siwi()\n",
        "\n"
      ],
      "metadata": {
        "id": "05oxrT0h30Vu"
      },
      "execution_count": null,
      "outputs": []
    },
    {
      "cell_type": "code",
      "source": [
        "def devuelta():\n",
        "  x=input(\"ingrese una oración\")\n",
        "  print(x[-9],x[-8],x[-7],x[-6],x[-5],x[-4],x[-3],x[-2],x[-1],x[-10],x[-15],x[-14],x[-13],x[-12],x[-11],x[-16],x[-18],x[-17])\n",
        "devuelta()"
      ],
      "metadata": {
        "colab": {
          "base_uri": "https://localhost:8080/"
        },
        "id": "CR_FvDLf7EdU",
        "outputId": "56300ef8-c73c-4819-f0b3-e7c905af889f"
      },
      "execution_count": 74,
      "outputs": [
        {
          "output_type": "stream",
          "name": "stdout",
          "text": [
            "ingrese una oraciónme llamo francisco\n",
            "f r a n c i s c o   l l a m o   m e\n"
          ]
        }
      ]
    },
    {
      "cell_type": "code",
      "source": [
        "def mayus():\n",
        "  print(\"ingrese la frase\")\n",
        "  mal=str(input())\n",
        "  print(mal.capitalize())\n",
        "mayus()"
      ],
      "metadata": {
        "colab": {
          "base_uri": "https://localhost:8080/"
        },
        "id": "bujBSqI5-PND",
        "outputId": "3b6dbd75-c418-459b-ce5b-235b1d73919c"
      },
      "execution_count": 75,
      "outputs": [
        {
          "output_type": "stream",
          "name": "stdout",
          "text": [
            "ingrese la frase\n",
            "hola payaso\n",
            "Hola payaso\n"
          ]
        }
      ]
    },
    {
      "cell_type": "code",
      "source": [
        "def pascal():\n",
        "  n=int(input(\"digalo\"))\n",
        "  if n<2:\n",
        "    print(1,1)\n",
        "  else:\n",
        "    print(1,n,(2*(n-1)),n,1)\n",
        "pascal()"
      ],
      "metadata": {
        "colab": {
          "base_uri": "https://localhost:8080/"
        },
        "id": "3mWG4881_zFq",
        "outputId": "50fe2261-79e8-4771-db7d-5c3e595174f9"
      },
      "execution_count": 77,
      "outputs": [
        {
          "output_type": "stream",
          "name": "stdout",
          "text": [
            "digalo4\n",
            "1 4 6 4 1\n"
          ]
        }
      ]
    }
  ]
}