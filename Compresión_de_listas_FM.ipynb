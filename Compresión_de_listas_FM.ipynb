{
  "nbformat": 4,
  "nbformat_minor": 0,
  "metadata": {
    "colab": {
      "provenance": []
    },
    "kernelspec": {
      "name": "python3",
      "display_name": "Python 3"
    },
    "language_info": {
      "name": "python"
    }
  },
  "cells": [
    {
      "cell_type": "code",
      "source": [
        "import random\n",
        "x=input(\"Ingrese la palabra o relación que desea la contraseña\")\n",
        "palabra = [letra for letra in x]\n",
        "números =[num for num in range (0,10)]\n",
        "generador=[random.choice(números) or random.choice(palabra) for num in range(0,11)]\n",
        "print(generador)\n"
      ],
      "metadata": {
        "colab": {
          "base_uri": "https://localhost:8080/"
        },
        "id": "ovqaKchx5GWP",
        "outputId": "b6f5b170-7c6c-4950-c118-39f85d953326"
      },
      "execution_count": 48,
      "outputs": [
        {
          "output_type": "stream",
          "name": "stdout",
          "text": [
            "Ingrese la palabra o relación que desea la contraseñamango\n",
            "['n', 3, 7, 'o', 5, 8, 9, 6, 7, 7, 8]\n"
          ]
        }
      ]
    },
    {
      "cell_type": "code",
      "source": [
        "números =[(n*2) for n in range(1,9)]\n",
        "print(números)"
      ],
      "metadata": {
        "id": "VZLpCGER-KfT"
      },
      "execution_count": null,
      "outputs": []
    },
    {
      "cell_type": "code",
      "source": [
        "cadenas =[\"*\" * n for n in range(1,6) ]\n",
        "print(cadenas)"
      ],
      "metadata": {
        "colab": {
          "base_uri": "https://localhost:8080/"
        },
        "id": "cHYB8CiE_PJC",
        "outputId": "5b3f28de-d78e-42c0-c20b-90f828d32fe8"
      },
      "execution_count": 57,
      "outputs": [
        {
          "output_type": "stream",
          "name": "stdout",
          "text": [
            "['*', '**', '***', '****', '*****']\n"
          ]
        }
      ]
    },
    {
      "cell_type": "code",
      "source": [
        "x = input(\"Ingrese la palabra que desee: \")\n",
        "lista=[n for n in x]\n",
        "print(lista)"
      ],
      "metadata": {
        "colab": {
          "base_uri": "https://localhost:8080/"
        },
        "id": "sWpEvlhAAq0d",
        "outputId": "6884e247-aa7d-44c4-fde6-cfe2cf5779bd"
      },
      "execution_count": 58,
      "outputs": [
        {
          "output_type": "stream",
          "name": "stdout",
          "text": [
            "Ingrese la palabra que desee: Hola\n",
            "['H', 'o', 'l', 'a']\n"
          ]
        }
      ]
    },
    {
      "cell_type": "code",
      "source": [
        "lista1 = [2,7,10,9,8]\n",
        "lista2 = [elementos**2 for elementos in lista1 if elementos%2==0]\n",
        "print(\"nueva lista\",lista2)"
      ],
      "metadata": {
        "colab": {
          "base_uri": "https://localhost:8080/"
        },
        "id": "XGUjuaM_C4J4",
        "outputId": "ce91a2e6-7a91-4485-a21c-7276e68ceb0e"
      },
      "execution_count": 59,
      "outputs": [
        {
          "output_type": "stream",
          "name": "stdout",
          "text": [
            "nueva lista [4, 100, 64]\n"
          ]
        }
      ]
    },
    {
      "cell_type": "code",
      "source": [
        "import random \n",
        "capitan =[random.randrange(1,30) for i in range(9)]\n",
        "print(\"imprimer números aleatorios de la lista: \", str(capitan))"
      ],
      "metadata": {
        "colab": {
          "base_uri": "https://localhost:8080/"
        },
        "id": "egza4fURD8AO",
        "outputId": "1a36a7eb-36a3-462a-b871-9cc5527c3976"
      },
      "execution_count": 61,
      "outputs": [
        {
          "output_type": "stream",
          "name": "stdout",
          "text": [
            "imprimer números aleatorios de la lista:  [15, 2, 21, 29, 22, 29, 3, 1, 3]\n"
          ]
        }
      ]
    },
    {
      "cell_type": "code",
      "source": [
        "precios =[]\n",
        "print(\"ingrese los númeross de los que quieres hacer un descuento\")\n",
        "det = True\n",
        "while det:\n",
        "  num =int(input(\" si no desea agreagar mas números digite 0\"))\n",
        "  precios.append(num)\n",
        "  det = False if num == 0 else num>0\n",
        "des=float(input(print(\" ingrese el descuento sin el %\")))\n",
        "presdes =[precio*des/100 for precio in precios]\n",
        "presdes.pop(-1)\n",
        "print(presdes)"
      ],
      "metadata": {
        "colab": {
          "base_uri": "https://localhost:8080/"
        },
        "id": "8_2et_1VElTq",
        "outputId": "34f3162f-1789-44b9-e1d2-16cc90545cf5"
      },
      "execution_count": 64,
      "outputs": [
        {
          "output_type": "stream",
          "name": "stdout",
          "text": [
            "ingrese los númeross de los que quieres hacer un descuento\n",
            " si no desea agreagar mas números digite 05\n",
            " si no desea agreagar mas números digite 06\n",
            " si no desea agreagar mas números digite 00\n",
            " ingrese el descuento sin el %\n",
            "None0\n",
            "[0.0, 0.0]\n"
          ]
        }
      ]
    }
  ]
}