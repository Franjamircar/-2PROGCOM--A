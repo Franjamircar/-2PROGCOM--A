{
  "nbformat": 4,
  "nbformat_minor": 0,
  "metadata": {
    "colab": {
      "provenance": []
    },
    "kernelspec": {
      "name": "python3",
      "display_name": "Python 3"
    },
    "language_info": {
      "name": "python"
    }
  },
  "cells": [
    {
      "cell_type": "code",
      "execution_count": null,
      "metadata": {
        "id": "VdpLv6k-IUS6"
      },
      "outputs": [],
      "source": [
        "class Espadas():\n",
        "  nombre=\"soy una espada\"\n",
        "  daño=\"Causo daño\"\n",
        "  def __init__(self,nombre,daño):\n",
        "    self.nombre = nombre\n",
        "    self.daño = daño\n",
        "  def __repr__(self):\n",
        "    return f\"espada de:{self.nombre}, y causa:{self.daño} de daño\""
      ]
    },
    {
      "cell_type": "code",
      "source": [
        "class Espada_elemental(Espadas):\n",
        "  def masatributos(self,elemento,tamaño,durabilidad,color,ph,lindura,grosor,marca):\n",
        "    self.elemento = elemento\n",
        "    self.tamaño = tamaño\n",
        "    self.durabilidad = durabilidad\n",
        "    self.color = color\n",
        "    self.ph=ph\n",
        "    self.lindura=lindura\n",
        "    self.grosor=grosor\n",
        "    self.marca=marca"
      ],
      "metadata": {
        "id": "cnOdnJP_GnLv"
      },
      "execution_count": null,
      "outputs": []
    },
    {
      "cell_type": "code",
      "source": [
        "espada1=Espada_elemental(\"Espada Fruta\",20)"
      ],
      "metadata": {
        "id": "62fnHoNYHazj"
      },
      "execution_count": null,
      "outputs": []
    },
    {
      "cell_type": "code",
      "source": [
        "print(espada1)"
      ],
      "metadata": {
        "colab": {
          "base_uri": "https://localhost:8080/"
        },
        "id": "IAnXiRG6JE4w",
        "outputId": "3c15f656-5a8c-4014-a213-943e289f6ed1"
      },
      "execution_count": null,
      "outputs": [
        {
          "output_type": "stream",
          "name": "stdout",
          "text": [
            "espada de:Espada Fruta, y causa:20 de daño\n"
          ]
        }
      ]
    },
    {
      "cell_type": "code",
      "source": [
        "espada1.masatributos(\"maracuya\", 25,7,\"amarillo\",7,10,2,\"gucci\")"
      ],
      "metadata": {
        "id": "egRPj6a7JfZI"
      },
      "execution_count": null,
      "outputs": []
    },
    {
      "cell_type": "code",
      "source": [
        "espada1.__dict__"
      ],
      "metadata": {
        "colab": {
          "base_uri": "https://localhost:8080/"
        },
        "id": "K1nUvPqZJ4l-",
        "outputId": "78061622-ead2-40cd-dcc6-78d5941fcb3b"
      },
      "execution_count": null,
      "outputs": [
        {
          "output_type": "execute_result",
          "data": {
            "text/plain": [
              "{'nombre': 'Espada Fruta',\n",
              " 'daño': 20,\n",
              " 'elemento': 'maracuya',\n",
              " 'tamaño': 25,\n",
              " 'durabilidad': 7,\n",
              " 'color': 'amarillo',\n",
              " 'ph': 7,\n",
              " 'lindura': 10,\n",
              " 'grosor': 2,\n",
              " 'marca': 'gucci'}"
            ]
          },
          "metadata": {},
          "execution_count": 61
        }
      ]
    },
    {
      "cell_type": "code",
      "source": [
        "class namekusein(Dragonbolas):\n",
        "  def atributos(self,color,pelo,orejas,fuerza):\n",
        "    self.color:color\n",
        "    self.pelo:pelo\n",
        "    self.orjas:orejas\n",
        "    self.fuerza:fuerza\n"
      ],
      "metadata": {
        "id": "m-5vNz10NJJB"
      },
      "execution_count": null,
      "outputs": []
    },
    {
      "cell_type": "code",
      "source": [
        "picolo=namekusein(\"picolo\",2)"
      ],
      "metadata": {
        "id": "A3AkGYlzOG81"
      },
      "execution_count": null,
      "outputs": []
    },
    {
      "cell_type": "code",
      "source": [
        "class Dragonbolas():\n",
        "  nombre=\"Tolso\"\n",
        "  daño=\"Nivel de daño\"\n",
        "  def __init__(self,nombre,daño):\n",
        "    self.nombre = nombre\n",
        "    self.daño = daño\n",
        "  def __repr__(self):\n",
        "    return f\"espada de:{self.nombre}, y causa:{self.daño} de daño\""
      ],
      "metadata": {
        "id": "8J6Zps81PESV"
      },
      "execution_count": null,
      "outputs": []
    },
    {
      "cell_type": "code",
      "source": [
        "picolo.atributos(\"verde\",\"vacio\",\"tubo\",2)"
      ],
      "metadata": {
        "id": "yZHz1LdIN4WR"
      },
      "execution_count": null,
      "outputs": []
    },
    {
      "cell_type": "code",
      "source": [
        "picolo.__dict__"
      ],
      "metadata": {
        "colab": {
          "base_uri": "https://localhost:8080/"
        },
        "id": "36n6TipWQhwf",
        "outputId": "c690851e-079f-48f3-fb07-4d3a915c5b0f"
      },
      "execution_count": null,
      "outputs": [
        {
          "output_type": "execute_result",
          "data": {
            "text/plain": [
              "{'nombre': 'picolo', 'daño': 2}"
            ]
          },
          "metadata": {},
          "execution_count": 76
        }
      ]
    },
    {
      "cell_type": "code",
      "source": [
        "class Humanos():\n",
        "  def __init__(self,nombre,edad,cuerpo,piernas,brazos,ojos,cabello,nariz,color_piel):\n",
        "    self.nombre=nombre\n",
        "    self.edad=edad\n",
        "    self.cuerpo=cuerpo\n",
        "    self.piernas=piernas\n",
        "    self.brazos=brazos\n",
        "    self.ojos=ojos\n",
        "    self.cabello=cabello\n",
        "    self.nariz=nariz\n",
        "    self.color_piel=color_piel\n",
        "  def caminar(self,velocidad):\n",
        "    if velocidad>0.5 and velocidad<1:\n",
        "      return f\"{self.nombre} está gateando\"\n",
        "    if velocidad>2 and velocidad<4:\n",
        "      return f\"{self.nombre} está caminando\"    \n",
        "    if velocidad>=5 and velocidad<7:\n",
        "      return f\"{self.nombre} está trotando\"\n",
        "    if velocidad>=7 and velocidad<10:\n",
        "      return f\"{self.nombre} está corriendo\"\n",
        "    if velocidad>=1 and velocidad<2:\n",
        "      return f\"{self.nombre} está cojeando\"\n",
        "    else:\n",
        "      return f\"{self.nombre} está trotando\"\n",
        "\n",
        "  def comer(self,saciedad):\n",
        "    if saciedad==0:\n",
        "      return f\"{self.nombre} tengo hambre\"\n",
        "    if saciedad>0 and saciedad<1:\n",
        "      return f\"{self.nombre} sigo con hambre pero no tanto\"\n",
        "    if saciedad>=1 and saciedad<1:\n",
        "      return f\"{self.nombre} estoy algo saciado\"\n",
        "    if saciedad>=2 and saciedad<4:\n",
        "      return f\"{self.nombre} estoy bien\"\n",
        "    else:\n",
        "      return f\"{self.nombre} estoy lleno bien\""
      ],
      "metadata": {
        "id": "ZLyfJMMPSZx-"
      },
      "execution_count": null,
      "outputs": []
    },
    {
      "cell_type": "code",
      "source": [
        "estudiante=Humanos(\"Duban\",16,\"delgado\",2,2,\"azules\",\"rubio y corto\",1,\"beige\")"
      ],
      "metadata": {
        "id": "5N9Cn6iqWZMp"
      },
      "execution_count": null,
      "outputs": []
    },
    {
      "cell_type": "code",
      "source": [
        "estudiante.__dict__"
      ],
      "metadata": {
        "colab": {
          "base_uri": "https://localhost:8080/"
        },
        "id": "O2xyWnzAW97a",
        "outputId": "b4e6e50f-4279-4cbf-977c-5258946ffdbd"
      },
      "execution_count": null,
      "outputs": [
        {
          "output_type": "execute_result",
          "data": {
            "text/plain": [
              "{'nombre': 'Duban',\n",
              " 'edad': 16,\n",
              " 'cuerpo': 'delgado',\n",
              " 'piernas': 2,\n",
              " 'brazos': 2,\n",
              " 'ojos': 'azules',\n",
              " 'cabello': 'rubio y corto',\n",
              " 'nariz': 1,\n",
              " 'color_piel': 'beige'}"
            ]
          },
          "metadata": {},
          "execution_count": 84
        }
      ]
    },
    {
      "cell_type": "code",
      "source": [
        "estudiante.caminar(40)"
      ],
      "metadata": {
        "colab": {
          "base_uri": "https://localhost:8080/",
          "height": 165
        },
        "id": "VFWaz79fXIZi",
        "outputId": "a4ac80e4-8cfc-4d56-d191-75762d0975bd"
      },
      "execution_count": null,
      "outputs": [
        {
          "output_type": "error",
          "ename": "TypeError",
          "evalue": "ignored",
          "traceback": [
            "\u001b[0;31m---------------------------------------------------------------------------\u001b[0m",
            "\u001b[0;31mTypeError\u001b[0m                                 Traceback (most recent call last)",
            "\u001b[0;32m<ipython-input-91-b31f1c24fea4>\u001b[0m in \u001b[0;36m<module>\u001b[0;34m\u001b[0m\n\u001b[0;32m----> 1\u001b[0;31m \u001b[0mestudiante\u001b[0m\u001b[0;34m.\u001b[0m\u001b[0mcaminar\u001b[0m\u001b[0;34m(\u001b[0m\u001b[0;36m40\u001b[0m\u001b[0;34m)\u001b[0m\u001b[0;34m\u001b[0m\u001b[0;34m\u001b[0m\u001b[0m\n\u001b[0m",
            "\u001b[0;31mTypeError\u001b[0m: caminar() missing 1 required positional argument: 'velocidad'"
          ]
        }
      ]
    },
    {
      "cell_type": "code",
      "source": [
        "estudiante.comer(0)"
      ],
      "metadata": {
        "colab": {
          "base_uri": "https://localhost:8080/",
          "height": 35
        },
        "id": "fXLXh7A1XgMF",
        "outputId": "5811d2fc-4115-4114-be1f-7c711ca8b565"
      },
      "execution_count": null,
      "outputs": [
        {
          "output_type": "execute_result",
          "data": {
            "text/plain": [
              "'Duban tengo hambre'"
            ],
            "application/vnd.google.colaboratory.intrinsic+json": {
              "type": "string"
            }
          },
          "metadata": {},
          "execution_count": 89
        }
      ]
    }
  ]
}