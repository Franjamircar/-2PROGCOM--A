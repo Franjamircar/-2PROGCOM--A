{
  "nbformat": 4,
  "nbformat_minor": 0,
  "metadata": {
    "colab": {
      "provenance": []
    },
    "kernelspec": {
      "name": "python3",
      "display_name": "Python 3"
    },
    "language_info": {
      "name": "python"
    }
  },
  "cells": [
    {
      "cell_type": "code",
      "execution_count": 15,
      "metadata": {
        "id": "zQTO66ob7g_g"
      },
      "outputs": [],
      "source": [
        "class Calculadora():\n",
        "  def cr7(self):\n",
        "    self.resultado=0\n",
        "    self.num1=0\n",
        "    self.num2=0\n",
        "    self.den1=1\n",
        "    self.den2=1\n",
        "  def sumar(self):\n",
        "    self.resultado = print((self.num1 + self.num2),\"/\",(self.den1 *self.den2))\n",
        "  def restar(self):\n",
        "    self.resultado = print((self.num1 - self.num2),\"/\",(self.den1 *self.den2))\n",
        "  def multiplicar(self):\n",
        "    self.resultado = print((self.num1 * self.num2),\"/\",(self.den1 *self.den2))\n",
        "  def dividir(self):\n",
        "    self.resultado = print((self.num1 * self.den2),\"/\",(self.den1 *self.num2))\n",
        "  def respuesta(self):\n",
        "    return self.resultado"
      ]
    },
    {
      "cell_type": "code",
      "source": [
        "calcu = Calculadora()\n",
        "calcu.num1 = int(input(\"Regaleme el primer numerador\"))\n",
        "calcu.den1 = int(input(\"Regaleme el primer denomerador\"))\n",
        "calcu.num2 = int(input(\"Regaleme el segundo numerador\"))\n",
        "calcu.den2 = int(input(\"Regaleme el segundo denominador\"))\n",
        "calcu.sumar()\n",
        "calcu.respuesta()\n"
      ],
      "metadata": {
        "id": "ZpwWd-lHAHio"
      },
      "execution_count": null,
      "outputs": []
    }
  ]
}