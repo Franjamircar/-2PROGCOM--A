{
  "nbformat": 4,
  "nbformat_minor": 0,
  "metadata": {
    "colab": {
      "provenance": []
    },
    "kernelspec": {
      "name": "python3",
      "display_name": "Python 3"
    },
    "language_info": {
      "name": "python"
    }
  },
  "cells": [
    {
      "cell_type": "code",
      "execution_count": 2,
      "metadata": {
        "id": "zQTO66ob7g_g"
      },
      "outputs": [],
      "source": [
        "class Calculadora():\n",
        "  def cr7(self):\n",
        "    self.resultado=0\n",
        "    self.num1=0\n",
        "    self.num2=0\n",
        "    self.den1=1\n",
        "    self.den2=1\n",
        "  def sumar(self):\n",
        "    self.resultado = print((self.num1 + self.num2),\"/\",(self.den1 *self.den2))\n",
        "  def restar(self):\n",
        "    self.resultado = print((self.num1 - self.num2),\"/\",(self.den1 *self.den2))\n",
        "  def multiplicar(self):\n",
        "    self.resultado = print((self.num1 * self.num2),\"/\",(self.den1 *self.den2))\n",
        "  def dividir(self):\n",
        "    self.resultado = print((self.num1 * self.den2),\"/\",(self.den1 *self.num2))\n",
        "  def respuesta(self):\n",
        "    return self.resultado"
      ]
    },
    {
      "cell_type": "code",
      "source": [
        "calcu = Calculadora()\n",
        "calcu.num1 = int(input(\"Regaleme el primer numerador\"))\n",
        "calcu.den1 = int(input(\"Regaleme el primer denomerador\"))\n",
        "calcu.num2 = int(input(\"Regaleme el segundo numerador\"))\n",
        "calcu.den2 = int(input(\"Regaleme el segundo denominador\"))\n",
        "calcu.restar()\n",
        "calcu.respuesta()\n"
      ],
      "metadata": {
        "id": "ZpwWd-lHAHio",
        "colab": {
          "base_uri": "https://localhost:8080/"
        },
        "outputId": "0ef46896-ee3b-45e8-b19a-15bb27fe0231"
      },
      "execution_count": 4,
      "outputs": [
        {
          "output_type": "stream",
          "name": "stdout",
          "text": [
            "Regaleme el primer numerador4\n",
            "Regaleme el primer denomerador8\n",
            "Regaleme el segundo numerador2\n",
            "Regaleme el segundo denominador6\n",
            "2 / 48\n"
          ]
        }
      ]
    },
    {
      "cell_type": "code",
      "source": [
        "class Calculadora():\n",
        "  def cr7(self):\n",
        "    self.resultado=0\n",
        "    self.num1=0\n",
        "    self.num2=0\n",
        "    self.den1=1\n",
        "    self.den2=1\n",
        "  def sumar(self):\n",
        "    if self.den1 == self.den2:\n",
        "      self.resultado = print((self.num1 + self.num2),\"/\",(self.den1))\n",
        "    else: \n",
        "      self.resultado = print(((self.num1 *self.den2) + (self.num2*self.den2)),\"/\",(self.den1 *self.den2))\n",
        "  def restar(self):\n",
        "    if self.den1 == self.den2:\n",
        "      self.resultado = print((self.num1 - self.num2),\"/\",(self.den1))\n",
        "    else: \n",
        "      self.resultado = print(((self.num1 *self.den2) - (self.num2*self.den2)),\"/\",(self.den1 *self.den2))\n",
        "  def multiplicar(self):\n",
        "    self.resultado = print((self.num1 * self.num2),\"/\",(self.den1 *self.den2))\n",
        "  def dividir(self):\n",
        "    self.resultado = print((self.num1 * self.den2),\"/\",(self.den1 *self.num2))\n",
        "  def respuesta(self):\n",
        "    return self.resultado\n",
        "calcu = Calculadora()\n",
        "calcu.num1 = int(input(\"Regaleme el primer numerador\"))\n",
        "calcu.den1 = int(input(\"Regaleme el primer denomerador\"))\n",
        "calcu.num2 = int(input(\"Regaleme el segundo numerador\"))\n",
        "calcu.den2 = int(input(\"Regaleme el segundo denominador\"))\n",
        "\n",
        "calcu.restar()\n",
        "calcu.respuesta()"
      ],
      "metadata": {
        "colab": {
          "base_uri": "https://localhost:8080/"
        },
        "id": "J2Y13oHjrOkp",
        "outputId": "4c81b90b-0342-433f-840e-152357cfc26b"
      },
      "execution_count": 8,
      "outputs": [
        {
          "output_type": "stream",
          "name": "stdout",
          "text": [
            "Regaleme el primer numerador2\n",
            "Regaleme el primer denomerador4\n",
            "Regaleme el segundo numerador1\n",
            "Regaleme el segundo denominador4\n",
            "1 / 4\n"
          ]
        }
      ]
    }
  ]
}