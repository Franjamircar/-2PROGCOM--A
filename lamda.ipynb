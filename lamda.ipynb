{
  "nbformat": 4,
  "nbformat_minor": 0,
  "metadata": {
    "colab": {
      "provenance": []
    },
    "kernelspec": {
      "name": "python3",
      "display_name": "Python 3"
    },
    "language_info": {
      "name": "python"
    }
  },
  "cells": [
    {
      "cell_type": "markdown",
      "source": [
        "#LAMDA O FUNCIONES ANÓNIMAS \n",
        "\n",
        "\n",
        "*   Funciones pequeñas, de fácil acceso y rápidas\n",
        "*   Puede contener **varios** argumentos, pero sólo \n",
        "una expresión\n",
        "\n",
        "Definiendo lamda:\n",
        "lamda (parámetro):expresión\n",
        "\n",
        "\n"
      ],
      "metadata": {
        "id": "e7EaYOKp9Wln"
      }
    },
    {
      "cell_type": "code",
      "execution_count": 2,
      "metadata": {
        "colab": {
          "base_uri": "https://localhost:8080/"
        },
        "id": "NCkSyJam9VFW",
        "outputId": "725b47c9-8e4e-4310-d9eb-43a69a3ed637"
      },
      "outputs": [
        {
          "output_type": "execute_result",
          "data": {
            "text/plain": [
              "[0, 1, 4, 9, 16, 25, 36, 49, 64, 81]"
            ]
          },
          "metadata": {},
          "execution_count": 2
        }
      ],
      "source": [
        "#Función que eleve al cuadrado todos los elementos de una lista.\n",
        "lista =[num for num in range(0,10)]\n",
        "#Compresión\n",
        "lista2=[n**2 for n in lista]\n",
        "lista2"
      ]
    },
    {
      "cell_type": "code",
      "source": [
        "def elevar(*n):\n",
        "  for i in n:\n",
        "def lista():\n",
        "  i(int(lista))\n"
      ],
      "metadata": {
        "id": "RIcP14fgBxpm"
      },
      "execution_count": null,
      "outputs": []
    },
    {
      "cell_type": "code",
      "source": [
        "lambda1=lambda x:x**2\n",
        "lambda1(2)"
      ],
      "metadata": {
        "colab": {
          "base_uri": "https://localhost:8080/"
        },
        "id": "NbWtaMRP-X_j",
        "outputId": "1f054f4e-6d1c-4a16-a3e6-dd37c5e60c85"
      },
      "execution_count": 11,
      "outputs": [
        {
          "output_type": "execute_result",
          "data": {
            "text/plain": [
              "4"
            ]
          },
          "metadata": {},
          "execution_count": 11
        }
      ]
    },
    {
      "cell_type": "code",
      "source": [
        "lambda2=lambda x,y:x**y\n",
        "lambda2(2,4)"
      ],
      "metadata": {
        "colab": {
          "base_uri": "https://localhost:8080/"
        },
        "id": "dktUGWksAteT",
        "outputId": "8529cd69-de60-4b58-e774-c41d3c2a208e"
      },
      "execution_count": 7,
      "outputs": [
        {
          "output_type": "execute_result",
          "data": {
            "text/plain": [
              "16"
            ]
          },
          "metadata": {},
          "execution_count": 7
        }
      ]
    },
    {
      "cell_type": "code",
      "source": [
        "lambda3=lambda num:True if num**2>=0 else False\n",
        "lambda3(4)"
      ],
      "metadata": {
        "id": "8r0ndpCtA656"
      },
      "execution_count": null,
      "outputs": []
    },
    {
      "cell_type": "code",
      "source": [
        "letras={\"A\":3,\"B\":6,\"C\":9}\n",
        "sorted(letras, key=lambda x:letras[x]%3)"
      ],
      "metadata": {
        "colab": {
          "base_uri": "https://localhost:8080/"
        },
        "id": "dg5xfYCjBaZJ",
        "outputId": "341b1166-b3ce-4bbb-e664-b607d4d84807"
      },
      "execution_count": 12,
      "outputs": [
        {
          "output_type": "execute_result",
          "data": {
            "text/plain": [
              "['A', 'B', 'C']"
            ]
          },
          "metadata": {},
          "execution_count": 12
        }
      ]
    },
    {
      "cell_type": "code",
      "source": [
        "import random\n",
        "mi_lista=[n for n in range(0,10)]\n",
        "print(mi_lista)"
      ],
      "metadata": {
        "colab": {
          "base_uri": "https://localhost:8080/"
        },
        "id": "Le_RD_3rEFzQ",
        "outputId": "3fd3aa28-1587-497b-b8fc-0344d130aaa7"
      },
      "execution_count": 13,
      "outputs": [
        {
          "output_type": "stream",
          "name": "stdout",
          "text": [
            "[0, 1, 2, 3, 4, 5, 6, 7, 8, 9]\n"
          ]
        }
      ]
    },
    {
      "cell_type": "markdown",
      "source": [
        "##Funciones de orden superior\n",
        "1. MAP\n",
        "La función se aplica a cada elemento de la lista\n",
        "map(una función o lista)"
      ],
      "metadata": {
        "id": "R61swMasGfSh"
      }
    },
    {
      "cell_type": "code",
      "source": [
        "cuadrados=[]\n",
        "for i in lista:\n",
        "  cuadrados.append(i**2)\n",
        "print(cuadrados)"
      ],
      "metadata": {
        "colab": {
          "base_uri": "https://localhost:8080/"
        },
        "id": "3UI1py2GFtcs",
        "outputId": "8b3601f1-6d4c-464c-85c8-1857dab7ed29"
      },
      "execution_count": 15,
      "outputs": [
        {
          "output_type": "stream",
          "name": "stdout",
          "text": [
            "[0, 1, 4, 9, 16, 25, 36, 49, 64, 81]\n"
          ]
        }
      ]
    },
    {
      "cell_type": "code",
      "source": [
        "cuadrado2=[x**2 for x in lista]\n",
        "print(cuadrado2)"
      ],
      "metadata": {
        "colab": {
          "base_uri": "https://localhost:8080/"
        },
        "id": "MNOQvXNQIXNU",
        "outputId": "f115740a-6ee4-4f1c-e677-e4800b53baa1"
      },
      "execution_count": 17,
      "outputs": [
        {
          "output_type": "stream",
          "name": "stdout",
          "text": [
            "[0, 1, 4, 9, 16, 25, 36, 49, 64, 81]\n"
          ]
        }
      ]
    },
    {
      "cell_type": "code",
      "source": [
        "cuadrado3=list(map(lambda x:x**2,lista))\n",
        "cuadrado3"
      ],
      "metadata": {
        "colab": {
          "base_uri": "https://localhost:8080/"
        },
        "id": "DDrQ_PVzIoCm",
        "outputId": "e8065040-bb89-4937-fcb5-161046e5c1ed"
      },
      "execution_count": 19,
      "outputs": [
        {
          "output_type": "execute_result",
          "data": {
            "text/plain": [
              "[0, 1, 4, 9, 16, 25, 36, 49, 64, 81]"
            ]
          },
          "metadata": {},
          "execution_count": 19
        }
      ]
    },
    {
      "cell_type": "markdown",
      "source": [
        "##2.FILTER\n",
        "filtrar si se cumple la condición devuelve un True se define: filter(una funcion, una lista)\n",
        "\n"
      ],
      "metadata": {
        "id": "uhw0cBTNKkTu"
      }
    },
    {
      "cell_type": "code",
      "source": [
        "valores=[ x for x in range(1,10)]\n",
        "pares=[]\n",
        "for valor in valores:\n",
        "  if valor%2==0:\n",
        "    pares.append(valor)\n",
        "print(pares)"
      ],
      "metadata": {
        "colab": {
          "base_uri": "https://localhost:8080/"
        },
        "id": "hfPZf0pbKiqH",
        "outputId": "56c6f45a-bbd3-47be-e10c-5215913c207d"
      },
      "execution_count": 20,
      "outputs": [
        {
          "output_type": "stream",
          "name": "stdout",
          "text": [
            "[2, 4, 6, 8]\n"
          ]
        }
      ]
    },
    {
      "cell_type": "code",
      "source": [
        "valor3=list(filter(lambda julito:julito%2==0,valores))\n",
        "valor3"
      ],
      "metadata": {
        "colab": {
          "base_uri": "https://localhost:8080/"
        },
        "id": "amArfPeTLHYO",
        "outputId": "f7880827-2699-408a-b147-79625cbe844b"
      },
      "execution_count": 21,
      "outputs": [
        {
          "output_type": "execute_result",
          "data": {
            "text/plain": [
              "[2, 4, 6, 8]"
            ]
          },
          "metadata": {},
          "execution_count": 21
        }
      ]
    },
    {
      "cell_type": "markdown",
      "source": [
        "3. Redude\n",
        "es un acumulador\n",
        "**para usar reduce se debe importar el módulo functools**"
      ],
      "metadata": {
        "id": "Dpw6Dq9hL96z"
      }
    },
    {
      "cell_type": "code",
      "source": [
        "from functools import reduce\n",
        "def suma(lista):\n",
        "  suma=0\n",
        "  for i in lista:\n",
        "    suma+=i\n",
        "  return suma\n",
        "print(suma(valores))"
      ],
      "metadata": {
        "colab": {
          "base_uri": "https://localhost:8080/"
        },
        "id": "yzImyJTWL9tD",
        "outputId": "577475c0-546d-4669-d7fb-45813cd82563"
      },
      "execution_count": 29,
      "outputs": [
        {
          "output_type": "stream",
          "name": "stdout",
          "text": [
            "45\n"
          ]
        }
      ]
    },
    {
      "cell_type": "code",
      "source": [
        "suma1=reduce(lambda x,y:x+y,valores)\n",
        "suma1"
      ],
      "metadata": {
        "colab": {
          "base_uri": "https://localhost:8080/"
        },
        "id": "dVKM-ubDL8aD",
        "outputId": "ba1e92e8-75f5-4cd1-ec99-d6171f39e0c4"
      },
      "execution_count": 30,
      "outputs": [
        {
          "output_type": "execute_result",
          "data": {
            "text/plain": [
              "45"
            ]
          },
          "metadata": {},
          "execution_count": 30
        }
      ]
    }
  ]
}