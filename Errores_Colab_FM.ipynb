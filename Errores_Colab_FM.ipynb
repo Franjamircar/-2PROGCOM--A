{
  "nbformat": 4,
  "nbformat_minor": 0,
  "metadata": {
    "colab": {
      "provenance": [],
      "collapsed_sections": []
    },
    "kernelspec": {
      "name": "python3",
      "display_name": "Python 3"
    },
    "language_info": {
      "name": "python"
    }
  },
  "cells": [
    {
      "cell_type": "code",
      "source": [
        "#no se pueden agregar botones\n",
        "Button= (self.a,text=\"Siguiente\")"
      ],
      "metadata": {
        "colab": {
          "base_uri": "https://localhost:8080/",
          "height": 130
        },
        "id": "OXhVf5DYMQNB",
        "outputId": "1ae4dbb7-0ed6-4f04-a4dc-0bdefd5ada0f"
      },
      "execution_count": 2,
      "outputs": [
        {
          "output_type": "error",
          "ename": "SyntaxError",
          "evalue": "ignored",
          "traceback": [
            "\u001b[0;36m  File \u001b[0;32m\"<ipython-input-2-b19008a8d0c7>\"\u001b[0;36m, line \u001b[0;32m2\u001b[0m\n\u001b[0;31m    Button= (self.a,text=\"Siguiente\")\u001b[0m\n\u001b[0m                        ^\u001b[0m\n\u001b[0;31mSyntaxError\u001b[0m\u001b[0;31m:\u001b[0m invalid syntax\n"
          ]
        }
      ]
    },
    {
      "cell_type": "code",
      "source": [
        "#Ejecutar el codigo en diferentes ventanas al mismo tiempo \n",
        "ventana.geometry('500x300+100+100')"
      ],
      "metadata": {
        "colab": {
          "base_uri": "https://localhost:8080/",
          "height": 183
        },
        "id": "eJMzOBwxMSlJ",
        "outputId": "ab96f287-7054-453e-a2b5-10ccbfd1b1d8"
      },
      "execution_count": 4,
      "outputs": [
        {
          "output_type": "error",
          "ename": "NameError",
          "evalue": "ignored",
          "traceback": [
            "\u001b[0;31m---------------------------------------------------------------------------\u001b[0m",
            "\u001b[0;31mNameError\u001b[0m                                 Traceback (most recent call last)",
            "\u001b[0;32m<ipython-input-4-236bad5f0595>\u001b[0m in \u001b[0;36m<module>\u001b[0;34m\u001b[0m\n\u001b[1;32m      1\u001b[0m \u001b[0;31m#Ejecutar el codigo en diferentes ventanas al mismo tiempo\u001b[0m\u001b[0;34m\u001b[0m\u001b[0;34m\u001b[0m\u001b[0;34m\u001b[0m\u001b[0m\n\u001b[0;32m----> 2\u001b[0;31m \u001b[0mventana\u001b[0m\u001b[0;34m.\u001b[0m\u001b[0mgeometry\u001b[0m\u001b[0;34m(\u001b[0m\u001b[0;34m'500x300+100+100'\u001b[0m\u001b[0;34m)\u001b[0m\u001b[0;34m\u001b[0m\u001b[0;34m\u001b[0m\u001b[0m\n\u001b[0m",
            "\u001b[0;31mNameError\u001b[0m: name 'ventana' is not defined"
          ]
        }
      ]
    },
    {
      "cell_type": "code",
      "source": [
        "#No es posible editar el color de la letra \n",
        "lblusuario=Label(text=\"mi nombre es:\",font=(\"arial\")).place(x=24,y=30)"
      ],
      "metadata": {
        "colab": {
          "base_uri": "https://localhost:8080/",
          "height": 183
        },
        "id": "rYvYJgGbMfWe",
        "outputId": "50cc9f3f-0472-4fa2-c3ab-277de2f77745"
      },
      "execution_count": 7,
      "outputs": [
        {
          "output_type": "error",
          "ename": "NameError",
          "evalue": "ignored",
          "traceback": [
            "\u001b[0;31m---------------------------------------------------------------------------\u001b[0m",
            "\u001b[0;31mNameError\u001b[0m                                 Traceback (most recent call last)",
            "\u001b[0;32m<ipython-input-7-083f90fa83ea>\u001b[0m in \u001b[0;36m<module>\u001b[0;34m\u001b[0m\n\u001b[1;32m      1\u001b[0m \u001b[0;31m#No es posible editar el color de la letra\u001b[0m\u001b[0;34m\u001b[0m\u001b[0;34m\u001b[0m\u001b[0;34m\u001b[0m\u001b[0m\n\u001b[0;32m----> 2\u001b[0;31m \u001b[0mlblusuario\u001b[0m\u001b[0;34m=\u001b[0m\u001b[0mLabel\u001b[0m\u001b[0;34m(\u001b[0m\u001b[0mtext\u001b[0m\u001b[0;34m=\u001b[0m\u001b[0;34m\"mi nombre es:\"\u001b[0m\u001b[0;34m,\u001b[0m\u001b[0mfont\u001b[0m\u001b[0;34m=\u001b[0m\u001b[0;34m(\u001b[0m\u001b[0;34m\"arial\"\u001b[0m\u001b[0;34m)\u001b[0m\u001b[0;34m)\u001b[0m\u001b[0;34m.\u001b[0m\u001b[0mplace\u001b[0m\u001b[0;34m(\u001b[0m\u001b[0mx\u001b[0m\u001b[0;34m=\u001b[0m\u001b[0;36m24\u001b[0m\u001b[0;34m,\u001b[0m\u001b[0my\u001b[0m\u001b[0;34m=\u001b[0m\u001b[0;36m30\u001b[0m\u001b[0;34m)\u001b[0m\u001b[0;34m\u001b[0m\u001b[0;34m\u001b[0m\u001b[0m\n\u001b[0m",
            "\u001b[0;31mNameError\u001b[0m: name 'Label' is not defined"
          ]
        }
      ]
    },
    {
      "cell_type": "code",
      "source": [
        "#No es posible minar criptos\n",
        "import emplatilip"
      ],
      "metadata": {
        "colab": {
          "base_uri": "https://localhost:8080/",
          "height": 321
        },
        "id": "ouVwHR88QqWk",
        "outputId": "96c0284b-f40a-4a0f-8263-6d823640241c"
      },
      "execution_count": 8,
      "outputs": [
        {
          "output_type": "error",
          "ename": "ModuleNotFoundError",
          "evalue": "ignored",
          "traceback": [
            "\u001b[0;31m---------------------------------------------------------------------------\u001b[0m",
            "\u001b[0;31mModuleNotFoundError\u001b[0m                       Traceback (most recent call last)",
            "\u001b[0;32m<ipython-input-8-767c93549f8a>\u001b[0m in \u001b[0;36m<module>\u001b[0;34m\u001b[0m\n\u001b[1;32m      1\u001b[0m \u001b[0;31m#No es posible minar criptos\u001b[0m\u001b[0;34m\u001b[0m\u001b[0;34m\u001b[0m\u001b[0;34m\u001b[0m\u001b[0m\n\u001b[0;32m----> 2\u001b[0;31m \u001b[0;32mimport\u001b[0m \u001b[0memplatilip\u001b[0m\u001b[0;34m\u001b[0m\u001b[0;34m\u001b[0m\u001b[0m\n\u001b[0m",
            "\u001b[0;31mModuleNotFoundError\u001b[0m: No module named 'emplatilip'",
            "",
            "\u001b[0;31m---------------------------------------------------------------------------\u001b[0;32m\nNOTE: If your import is failing due to a missing package, you can\nmanually install dependencies using either !pip or !apt.\n\nTo view examples of installing some common dependencies, click the\n\"Open Examples\" button below.\n\u001b[0;31m---------------------------------------------------------------------------\u001b[0m\n"
          ],
          "errorDetails": {
            "actions": [
              {
                "action": "open_url",
                "actionText": "Open Examples",
                "url": "/notebooks/snippets/importing_libraries.ipynb"
              }
            ]
          }
        }
      ]
    },
    {
      "cell_type": "markdown",
      "source": [
        "#20 COSAS QUE COLAB NO PUEDE CORRER\n",
        "* No se puede ejercutar sin conexión.\n",
        "\n",
        "* Usar varias cuentas para eludir las restricciones de acceso o de uso de recursos\n",
        "\n",
        "* Colab necesita flexibilidad para ajustar dinámicamente los límites de uso y la disponibilidad de hardware\n",
        "\n",
        "* Descargar torrents o compartir archivos de punto a punto\n",
        "\n",
        "* Cuota de almacenamiento limitada\n",
        "\n",
        "* NO poder graficar o identificar algún tipo de librería importada\n",
        "\n",
        "* Conectarse a proxies remotos\n",
        "\n",
        "* Minar criptomonedas\n",
        "\n",
        "* Crear ultrafalsos\n",
        "\n",
        "* Craquear contraseñas\n",
        "\n",
        "* Ejecutar ataques de denegación de servicio\n",
        "\n",
        "* Usar un escritorio remoto o SSH\n",
        "\n",
        "* Las operaciones de Google Drive pueden agotar el tiempo de espera cuando el número de archivos o subcarpetas de una carpeta se vuelve demasiado grande, sin superar el límite necesariamente.\n",
        "\n",
        "* Error al guardar información pasada y no permite llamar alguna variable, o arroja error, luego, se debe desconectar el entorno de ejecución\n",
        "\n",
        "* No se ejecutan algunos entornos de programación.\n",
        "\n",
        "* Necesario tener una GPU de google para programar.\n",
        "\n",
        "* Pérdida de información en caso de algún fallo con la red o apagón.\n",
        "\n",
        "*  Contenido compartido puedes ser modificado al mismo tiempo, es decir, alguno podría alterar el programa mientras están todos allí\n",
        "\n",
        "* Alojar archivos, servir contenido multimedia u ofrecer otros servicios web que no estén relacionados con la computación interactiva de Colab\n",
        "\n",
        "* Usar varias cuentas para eludir las restricciones de acceso o de uso de recursos\n",
        "\n",
        "* Número máximo de operaciones por usuario y por archivo, y cuotas de ancho de banda.\n",
        "\n"
      ],
      "metadata": {
        "id": "yMAGyEtu8nHd"
      }
    }
  ]
}