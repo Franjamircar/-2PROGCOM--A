{
  "nbformat": 4,
  "nbformat_minor": 0,
  "metadata": {
    "colab": {
      "provenance": []
    },
    "kernelspec": {
      "name": "python3",
      "display_name": "Python 3"
    },
    "language_info": {
      "name": "python"
    }
  },
  "cells": [
    {
      "cell_type": "code",
      "source": [
        "import random\n",
        "x=input(\"Ingrese la palabra o relación que desea la contraseña\")\n",
        "palabra = [letra for letra in x]\n",
        "números =[num for num in range (0,10)]\n",
        "generador=[random.choice(números) or random.choice(palabra) for num in range(0,11)]\n",
        "print(generador)\n"
      ],
      "metadata": {
        "colab": {
          "base_uri": "https://localhost:8080/"
        },
        "id": "ovqaKchx5GWP",
        "outputId": "cf7b5835-1a85-49a3-c5cc-accac791e166"
      },
      "execution_count": 3,
      "outputs": [
        {
          "output_type": "stream",
          "name": "stdout",
          "text": [
            "Ingrese la palabra o relación que desea la contraseñagay\n",
            "[6, 2, 7, 9, 2, 1, 8, 'a', 3, 1, 'y']\n"
          ]
        }
      ]
    },
    {
      "cell_type": "code",
      "source": [
        "import random\n",
        "x=input(\"Ingrese la palabra o relación que desea la contraseña\")\n",
        "palabras = [letra for letra in x]\n",
        "numeros =[num for num in range (0,10)]\n",
        "generador=[random.choice(list(map(lambda x:x,numeros))) or random.choice(sorted(palabras, key=lambda letra:letra in palabras)) for num in range(0,11)]\n",
        "print(generador)\n",
        "\n",
        "\n"
      ],
      "metadata": {
        "colab": {
          "base_uri": "https://localhost:8080/"
        },
        "id": "kC7tgqk2eFZh",
        "outputId": "942aedd0-db83-4650-e4d0-96e3eff4f67f"
      },
      "execution_count": 6,
      "outputs": [
        {
          "output_type": "stream",
          "name": "stdout",
          "text": [
            "Ingrese la palabra o relación que desea la contraseñagay\n",
            "[7, 'y', 2, 9, 6, 2, 7, 2, 2, 8, 9]\n"
          ]
        }
      ]
    },
    {
      "cell_type": "code",
      "source": [
        "import random \n",
        "palabras = [\"a\", \"e\",\"i\",\"o\",\"u\"]\n",
        "numeros =[1,2,3,4,5,6,7,8,9]\n",
        "generador=[]\n",
        "for i in range(0,5):\n",
        " generador.append(random.choice(palabras))\n",
        " generador.append(random.choice(numeros))\n",
        "print(generador)"
      ],
      "metadata": {
        "id": "9JufS5G3wovX"
      },
      "execution_count": null,
      "outputs": []
    },
    {
      "cell_type": "code",
      "source": [
        "lambda3= list(map(lambda x: x, palabras))\n",
        "lambda3\n",
        "lambda x : random.choice(lambda x:x,numeros) or random.choice(lambda x: x, palabras\n",
        "lamda1=list(lambda x : random.choice(numeros))                                                              "
      ],
      "metadata": {
        "colab": {
          "base_uri": "https://localhost:8080/"
        },
        "id": "_tuGHE7MkQ7B",
        "outputId": "57682aff-09c9-4679-a068-78f2a725a550"
      },
      "execution_count": null,
      "outputs": [
        {
          "output_type": "execute_result",
          "data": {
            "text/plain": [
              "['g', 'a', 'y']"
            ]
          },
          "metadata": {},
          "execution_count": 54
        }
      ]
    },
    {
      "cell_type": "code",
      "source": [
        "import random\n",
        "\n",
        "x=input(\"agrege el nombre\")\n",
        "\n",
        "numeros=[\"1\",\"2\",\"3\"]\n",
        "\n",
        "lista2=[let for let in x + (random.choice(numeros)) if []]\n",
        "print(lista2)"
      ],
      "metadata": {
        "id": "b7vC91JIZuGO"
      },
      "execution_count": null,
      "outputs": []
    },
    {
      "cell_type": "code",
      "source": [
        "números =[(n*2) for n in range(1,9)]\n",
        "print(números)"
      ],
      "metadata": {
        "id": "VZLpCGER-KfT"
      },
      "execution_count": null,
      "outputs": []
    },
    {
      "cell_type": "code",
      "source": [
        "cadenas =[\"*\" * n for n in range(1,6) ]\n",
        "print(cadenas)"
      ],
      "metadata": {
        "colab": {
          "base_uri": "https://localhost:8080/"
        },
        "id": "cHYB8CiE_PJC",
        "outputId": "5b3f28de-d78e-42c0-c20b-90f828d32fe8"
      },
      "execution_count": null,
      "outputs": [
        {
          "output_type": "stream",
          "name": "stdout",
          "text": [
            "['*', '**', '***', '****', '*****']\n"
          ]
        }
      ]
    },
    {
      "cell_type": "code",
      "source": [
        "x = input(\"Ingrese la palabra que desee: \")\n",
        "lista=[n for n in x]\n",
        "print(lista)"
      ],
      "metadata": {
        "colab": {
          "base_uri": "https://localhost:8080/"
        },
        "id": "sWpEvlhAAq0d",
        "outputId": "6884e247-aa7d-44c4-fde6-cfe2cf5779bd"
      },
      "execution_count": null,
      "outputs": [
        {
          "output_type": "stream",
          "name": "stdout",
          "text": [
            "Ingrese la palabra que desee: Hola\n",
            "['H', 'o', 'l', 'a']\n"
          ]
        }
      ]
    },
    {
      "cell_type": "code",
      "source": [
        "lista1 = [2,7,10,9,8]\n",
        "lista2 = [elementos**2 for elementos in lista1 if elementos%2==0]\n",
        "print(\"nueva lista\",lista2)"
      ],
      "metadata": {
        "colab": {
          "base_uri": "https://localhost:8080/"
        },
        "id": "XGUjuaM_C4J4",
        "outputId": "ce91a2e6-7a91-4485-a21c-7276e68ceb0e"
      },
      "execution_count": null,
      "outputs": [
        {
          "output_type": "stream",
          "name": "stdout",
          "text": [
            "nueva lista [4, 100, 64]\n"
          ]
        }
      ]
    },
    {
      "cell_type": "code",
      "source": [
        "import random \n",
        "capitan =[random.randrange(1,30) for i in range(9)]\n",
        "print(\"imprimer números aleatorios de la lista: \", str(capitan))"
      ],
      "metadata": {
        "colab": {
          "base_uri": "https://localhost:8080/"
        },
        "id": "egza4fURD8AO",
        "outputId": "1a36a7eb-36a3-462a-b871-9cc5527c3976"
      },
      "execution_count": null,
      "outputs": [
        {
          "output_type": "stream",
          "name": "stdout",
          "text": [
            "imprimer números aleatorios de la lista:  [15, 2, 21, 29, 22, 29, 3, 1, 3]\n"
          ]
        }
      ]
    },
    {
      "cell_type": "code",
      "source": [
        "precios =[]\n",
        "print(\"ingrese los númeross de los que quieres hacer un descuento\")\n",
        "det = True\n",
        "while det:\n",
        "  num =int(input(\" si no desea agreagar mas números digite 0\"))\n",
        "  precios.append(num)\n",
        "  det = False if num == 0 else num>0\n",
        "des=float(input(print(\" ingrese el descuento sin el %\")))\n",
        "presdes =[precio*des/100 for precio in precios]\n",
        "presdes.pop(-1)\n",
        "print(presdes)"
      ],
      "metadata": {
        "colab": {
          "base_uri": "https://localhost:8080/"
        },
        "id": "8_2et_1VElTq",
        "outputId": "34f3162f-1789-44b9-e1d2-16cc90545cf5"
      },
      "execution_count": null,
      "outputs": [
        {
          "output_type": "stream",
          "name": "stdout",
          "text": [
            "ingrese los númeross de los que quieres hacer un descuento\n",
            " si no desea agreagar mas números digite 05\n",
            " si no desea agreagar mas números digite 06\n",
            " si no desea agreagar mas números digite 00\n",
            " ingrese el descuento sin el %\n",
            "None0\n",
            "[0.0, 0.0]\n"
          ]
        }
      ]
    },
    {
      "cell_type": "code",
      "source": [
        "#Tradicional julito\n",
        "n=int(input(\"ingresa el numero de palabras que vas a ingresar\"))\n",
        "lista=[]\n",
        "lista1=[]\n",
        "for i in range(n):\n",
        "  l=input(\"ingresa la palabra\")\n",
        "  if l.isupper():lista.append(l)\n",
        "  if l.islower():lista1.append(l)\n",
        "print(lista)\n",
        "print(lista1)"
      ],
      "metadata": {
        "colab": {
          "base_uri": "https://localhost:8080/"
        },
        "id": "lYCoG79_vtNf",
        "outputId": "45e81b10-5cd8-4f03-8e93-629997e56e17"
      },
      "execution_count": 18,
      "outputs": [
        {
          "output_type": "stream",
          "name": "stdout",
          "text": [
            "ingresa el numero de palabras que vas a ingresar2\n",
            "ingresa la palabraHola\n",
            "ingresa la palabramaricon\n",
            "[]\n",
            "['maricon']\n"
          ]
        }
      ]
    },
    {
      "cell_type": "code",
      "source": [
        "#Tradicional julito\n",
        "n=int(input(\"ingresa el numero de palabras que vas a ingresar\"))\n",
        "lista3=[]\n",
        "for i in range(n):\n",
        "  l=input(\"ingresa la palabra\")\n",
        "  lista3.append(l)\n",
        "  \n",
        "lista_comprimida_M=[elemento for elemento in lista3 if elemento[0:1].isupper()]\n",
        "lista_comprimida_m=[elemento for elemento in lista3 if elemento[0:1].islower()]\n",
        "print(lista_comprimida_M)\n",
        "print(lista_comprimida_m)"
      ],
      "metadata": {
        "colab": {
          "base_uri": "https://localhost:8080/"
        },
        "id": "Y6Ui-DYK0m4a",
        "outputId": "09d01002-70ae-4bc8-ef4c-0fce5c994a83"
      },
      "execution_count": 38,
      "outputs": [
        {
          "output_type": "stream",
          "name": "stdout",
          "text": [
            "ingresa el numero de palabras que vas a ingresar2\n",
            "ingresa la palabraHola\n",
            "ingresa la palabrahola\n",
            "['Hola']\n",
            "['hola']\n"
          ]
        }
      ]
    },
    {
      "cell_type": "markdown",
      "source": [
        "##Ejercicio by Leslie Karina"
      ],
      "metadata": {
        "id": "GtRtG72C6R0O"
      }
    },
    {
      "cell_type": "markdown",
      "source": [
        "##Tradicional"
      ],
      "metadata": {
        "id": "BY75r-qR7eZ9"
      }
    },
    {
      "cell_type": "code",
      "source": [
        "def pali(word):\n",
        "  rev=word[::-1]\n",
        "  return word==rev\n",
        "word=(input(\"Digita una palabra\")).lower()\n",
        "final=pali(word)\n",
        "if final==True:\n",
        "  print(f\"{word} es una palabra palindromo\")\n",
        "else:\n",
        "  print(f\"{word} no es una palabra palindromo\")"
      ],
      "metadata": {
        "colab": {
          "base_uri": "https://localhost:8080/"
        },
        "id": "MDV1FwHk4Ife",
        "outputId": "ff8c0d1a-c60f-40b5-9eaa-eae2c5afc959"
      },
      "execution_count": 41,
      "outputs": [
        {
          "output_type": "stream",
          "name": "stdout",
          "text": [
            "Digita una palabraAna\n",
            "ana es una palabra palindromo\n"
          ]
        }
      ]
    },
    {
      "cell_type": "markdown",
      "source": [
        "##Lambda"
      ],
      "metadata": {
        "id": "X3yHjZDJ7ihD"
      }
    },
    {
      "cell_type": "code",
      "source": [
        "c=int(input(\"Digita la cantidad de elementos que deseasa ingresar: \"))\n",
        "lista1=[]\n",
        "for i in range(c):\n",
        "  word = input(\"Escribe aquí\").lower()\n",
        "  lista1.append(word)\n",
        "print(lista1)\n",
        "lista2=list((map(lambda x:True if x==x[::-1] else False ,lista1)))\n",
        "print(lista2)"
      ],
      "metadata": {
        "colab": {
          "base_uri": "https://localhost:8080/"
        },
        "id": "30C27NML7hTd",
        "outputId": "32aa04d3-a863-4707-b7b4-2951d68a5474"
      },
      "execution_count": 46,
      "outputs": [
        {
          "output_type": "stream",
          "name": "stdout",
          "text": [
            "Digita la cantidad de elementos que deseasa ingresar: 2\n",
            "Escribe aquíana\n",
            "Escribe aquícamilo\n",
            "['ana', 'camilo']\n",
            "[True, False]\n"
          ]
        }
      ]
    },
    {
      "cell_type": "code",
      "source": [
        "#C O M P R E S I O N\n",
        "import random\n",
        "stock=['martillo','alicate','audifonos','martillo']\n",
        "cality=['GOOD','FAIL']\n",
        "a=[]\n",
        "\n",
        "for i in stock:\n",
        "  a.append((i,random.choice(cality)))\n",
        "listg=[]\n",
        "listf=[]\n",
        "listg = [x for x in a if 'GOOD' in x]\n",
        "listf= [x for x in a if 'FAIL' in x]\n",
        "print(listg,listf)"
      ],
      "metadata": {
        "id": "u-c1DqjO7hOc"
      },
      "execution_count": null,
      "outputs": []
    },
    {
      "cell_type": "code",
      "source": [
        "#L A M B D A\n",
        "import random\n",
        "stock=['martillo','alicate','audifonos','martillo']\n",
        "cality=['GOOD','FAIL']\n",
        "a=[]\n",
        "for i in stock:\n",
        "  a.append((i,random.choice(cality)))\n",
        "listg=[]\n",
        "listf=[]\n",
        "listg = lambda a : x map x in a if 'GOOD' in x"
      ],
      "metadata": {
        "id": "1PReGZd7Hk2v"
      },
      "execution_count": null,
      "outputs": []
    },
    {
      "cell_type": "code",
      "source": [
        "# N O R M A L\n",
        "import random\n",
        "stock=[\"martillo\",\"alicate\"]\n",
        "cality=['GOOD','FAIL']\n",
        "a=[]\n",
        "\n",
        "for i in stock:\n",
        "  a.append((i,random.choice(cality)))\n",
        "print(a)\n",
        "listg=[]\n",
        "listf=[]\n",
        "for x in a:\n",
        "  if 'GOOD' in x:\n",
        "    listg.append(x)\n",
        "    print(listg)\n",
        "  elif 'FAIL' in x:\n",
        "    listf.append(x)\n",
        "    print(listf)\n"
      ],
      "metadata": {
        "id": "bK9BKjQ3HnZ2"
      },
      "execution_count": null,
      "outputs": []
    },
    {
      "cell_type": "code",
      "source": [],
      "metadata": {
        "id": "AN61T9C-HnQu"
      },
      "execution_count": null,
      "outputs": []
    },
    {
      "cell_type": "markdown",
      "source": [],
      "metadata": {
        "id": "Dt6nT6YP4H6-"
      }
    }
  ]
}