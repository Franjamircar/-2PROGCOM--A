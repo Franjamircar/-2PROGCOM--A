{
  "nbformat": 4,
  "nbformat_minor": 0,
  "metadata": {
    "colab": {
      "provenance": []
    },
    "kernelspec": {
      "name": "python3",
      "display_name": "Python 3"
    },
    "language_info": {
      "name": "python"
    }
  },
  "cells": [
    {
      "cell_type": "code",
      "execution_count": 17,
      "metadata": {
        "id": "qP7kyngd31EM"
      },
      "outputs": [],
      "source": [
        "import random \n",
        "import time \n",
        "import os \n",
        "def preprimiparo():\n",
        "  print()\n",
        "  print(\"Tres en raya\")\n",
        "  print()\n",
        "  print()\n",
        "  print(\"         1.Fàcil\")\n",
        "  print(\"         2.Difìcil(Proximamente?)\")\n",
        "  print()\n",
        "  print()\n",
        "  print()\n",
        "  nivel=\"\"\n",
        "  while nivel !=\"1\" and nivel !=\"2\":\n",
        "    nivel = input(\"           dele\")\n",
        "  return int(nivel)"
      ]
    },
    {
      "cell_type": "code",
      "source": [
        "def preprimiparo2():\n",
        "  \"Selecciona la figura que queres jugar\"\n",
        "  print()\n",
        "  print(\"Tres en raya\")\n",
        "  print()\n",
        "  print()\n",
        "  print(\"         Juega la ficha O\")\n",
        "  print() \n",
        "  print(\"         Escoge: O / X\")\n",
        "  print()\n",
        "  figura=\"\"\n",
        "  while figura !=\"O\" and figura !=\"X\":\n",
        "    figura = input(\"           dele\").upper()\n",
        "  if figura ==\"O\":\n",
        "    humano = \"O\"\n",
        "    bot = \"X\"\n",
        "  else:\n",
        "    humano=\"X\"\n",
        "    bot = \"O\"\n",
        "  return humano, bot"
      ],
      "metadata": {
        "id": "IECUpAht5V-w"
      },
      "execution_count": 14,
      "outputs": []
    },
    {
      "cell_type": "code",
      "source": [
        "def monza(tablero):\n",
        "  print()\n",
        "  print(\"Tres en raya\")\n",
        "  print()\n",
        "  print(\"    1    /2    /3    \")\n",
        "  print(\"      {}  /  {}  /  {}\".format(tablero[0], tablero[1], tablero[2]))\n",
        "  print(\"         /     /\")\n",
        "  print(\"    -----+-----+-------\")\n",
        "  print(\"    4    /5    /6    \")\n",
        "  print(\"      {}  /  {}  /  {}\".format(tablero[3], tablero[4], tablero[5]))\n",
        "  print(\"         /     /\")\n",
        "  print(\"    -----+-----+-------\")\n",
        "  print(\"    7    /8    /9    \")\n",
        "  print(\"      {}  /  {}  /  {}\".format(tablero[6], tablero[7], tablero[8]))\n",
        "  print(\"         /     /\")\n",
        "  print()"
      ],
      "metadata": {
        "id": "SlOM76Ne7OcR"
      },
      "execution_count": 4,
      "outputs": []
    },
    {
      "cell_type": "code",
      "source": [
        "def seguir():\n",
        "  print()\n",
        "  respuesta=input(\"           ¿Queres màs? dale si o s\").lower()\n",
        "  if respuesta==\"si\" or respuesta == \"s\":\n",
        "    return True \n",
        "  else:\n",
        "    return False \n",
        "\n"
      ],
      "metadata": {
        "id": "Jzg4vkqB-zjH"
      },
      "execution_count": 5,
      "outputs": []
    },
    {
      "cell_type": "code",
      "source": [
        "def ganastepibi(tablero,jugador):\n",
        "  if tablero[0]==tablero[1]==tablero[2]==jugador or \\\n",
        "     tablero[3]==tablero[4]==tablero[5]==jugador or \\\n",
        "     tablero[6]==tablero[7]==tablero[8]==jugador or \\\n",
        "     tablero[0]==tablero[3]==tablero[6]==jugador or \\\n",
        "     tablero[1]==tablero[4]==tablero[7]==jugador or \\\n",
        "     tablero[2]==tablero[5]==tablero[8]==jugador or \\\n",
        "     tablero[0]==tablero[4]==tablero[8]==jugador or \\\n",
        "     tablero[2]==tablero[4]==tablero[6]==jugador:\n",
        "      return True\n",
        "  else:\n",
        "      return False"
      ],
      "metadata": {
        "id": "tqCYs8rq-zeO"
      },
      "execution_count": 6,
      "outputs": []
    },
    {
      "cell_type": "code",
      "source": [
        "def monazp1(tablero):\n",
        "  for i in tablero:\n",
        "    if i == \" \":\n",
        "      return False\n",
        "  else:\n",
        "    return True"
      ],
      "metadata": {
        "id": "N6JvvSN5f2pA"
      },
      "execution_count": 7,
      "outputs": []
    },
    {
      "cell_type": "code",
      "source": [
        "def casillas(tablero, casilla):\n",
        "  return tablero[casilla] == \" \"\n",
        "def movimiento(tablero):\n",
        "  posiciones = [\"1\",\"2\",\"3\",\"4\",\"5\",\"6\",\"7\",\"8\",\"9\"]\n",
        "  posicion = None\n",
        "  while True:\n",
        "    if posicion not in posiciones:\n",
        "      posicion = input(\"          Te toca (1-9): pibi\")\n",
        "    else:\n",
        "      posicion = input(posicion)\n",
        "      if not casillas(tablero, posicion-1):\n",
        "        print(\"        Pai ya està ocupada\")\n",
        "      else:\n",
        "        return posicion-1"
      ],
      "metadata": {
        "id": "nGAf-a06gZkg"
      },
      "execution_count": 8,
      "outputs": []
    },
    {
      "cell_type": "code",
      "source": [
        "def botmove(tablero, jugador):\n",
        "  for i in range(9):\n",
        "    copia = list(tablero)\n",
        "    if casillas(copia,jugador):\n",
        "      return i \n",
        "  while True:\n",
        "    casillas = random.randit(0,8)\n",
        "    if not casillas(tablero,casilla):\n",
        "      casilla = random.randit(0,8)\n",
        "    else:\n",
        "      return casilla"
      ],
      "metadata": {
        "id": "eqg6qFgohXTQ"
      },
      "execution_count": 10,
      "outputs": []
    },
    {
      "cell_type": "code",
      "source": [
        "jugando = True \n",
        "while jugando:\n",
        "  tablero = [\" \"]*9\n",
        "  nivel = preprimiparo()\n",
        "  humano, ordenador=preprimiparo2()\n",
        "  monza(tablero)\n",
        "  if humano == \"O\":\n",
        "    turno=\"macaco\"\n",
        "  else:\n",
        "    turno = \"bot\"\n",
        "  partida = True\n",
        "  while partida:\n",
        "    if monazp1(tablero):\n",
        "      print(\"               Empate\")\n",
        "      partida = False\n",
        "    elif turno == \"Macaco\":\n",
        "      casilla = movimiento(tablero)\n",
        "      tablero[casilla] = humano\n",
        "      turno = \"Bot\"\n",
        "      monza(tablero)\n",
        "      if ganastepibi(tablero,humano):\n",
        "        print(\"               GOOOOOOOOOL CANTALO CANTALO CANTALOOOOO\")\n",
        "        partida = False\n",
        "      elif turno==\"Bot\":\n",
        "        print(\"         Es que el bot es timido......\")\n",
        "        time.sleep(2)\n",
        "        if nivel==1:casilla = botmove(tablero, humano)\n",
        "        if nivel==2:print(\"NO VE QUE DICE PROXIMAMENTE?\")\n",
        "\n",
        "\n"
      ],
      "metadata": {
        "colab": {
          "base_uri": "https://localhost:8080/",
          "height": 963
        },
        "id": "06421ONQik90",
        "outputId": "16f30030-5905-456f-ca2e-16ee70ae35ae"
      },
      "execution_count": 18,
      "outputs": [
        {
          "output_type": "stream",
          "name": "stdout",
          "text": [
            "\n",
            "Tres en raya\n",
            "\n",
            "\n",
            "         1.Fàcil\n",
            "         2.Difìcil(Proximamente?)\n",
            "\n",
            "\n",
            "\n",
            "           dele2\n",
            "\n",
            "Tres en raya\n",
            "\n",
            "\n",
            "         Juega la ficha O\n",
            "\n",
            "         Escoge: O / X\n",
            "\n",
            "           dele0\n",
            "           deleO\n",
            "\n",
            "Tres en raya\n",
            "\n",
            "    1    /2    /3    \n",
            "         /     /   \n",
            "         /     /\n",
            "    -----+-----+-------\n",
            "    4    /5    /6    \n",
            "         /     /   \n",
            "         /     /\n",
            "    -----+-----+-------\n",
            "    7    /8    /9    \n",
            "         /     /   \n",
            "         /     /\n",
            "\n"
          ]
        },
        {
          "output_type": "error",
          "ename": "KeyboardInterrupt",
          "evalue": "ignored",
          "traceback": [
            "\u001b[0;31m---------------------------------------------------------------------------\u001b[0m",
            "\u001b[0;31mKeyboardInterrupt\u001b[0m                         Traceback (most recent call last)",
            "\u001b[0;32m<ipython-input-18-280758b4975e>\u001b[0m in \u001b[0;36m<module>\u001b[0;34m\u001b[0m\n\u001b[1;32m     11\u001b[0m   \u001b[0mpartida\u001b[0m \u001b[0;34m=\u001b[0m \u001b[0;32mTrue\u001b[0m\u001b[0;34m\u001b[0m\u001b[0;34m\u001b[0m\u001b[0m\n\u001b[1;32m     12\u001b[0m   \u001b[0;32mwhile\u001b[0m \u001b[0mpartida\u001b[0m\u001b[0;34m:\u001b[0m\u001b[0;34m\u001b[0m\u001b[0;34m\u001b[0m\u001b[0m\n\u001b[0;32m---> 13\u001b[0;31m     \u001b[0;32mif\u001b[0m \u001b[0mmonazp1\u001b[0m\u001b[0;34m(\u001b[0m\u001b[0mtablero\u001b[0m\u001b[0;34m)\u001b[0m\u001b[0;34m:\u001b[0m\u001b[0;34m\u001b[0m\u001b[0;34m\u001b[0m\u001b[0m\n\u001b[0m\u001b[1;32m     14\u001b[0m       \u001b[0mprint\u001b[0m\u001b[0;34m(\u001b[0m\u001b[0;34m\"               Empate\"\u001b[0m\u001b[0;34m)\u001b[0m\u001b[0;34m\u001b[0m\u001b[0;34m\u001b[0m\u001b[0m\n\u001b[1;32m     15\u001b[0m       \u001b[0mpartida\u001b[0m \u001b[0;34m=\u001b[0m \u001b[0;32mFalse\u001b[0m\u001b[0;34m\u001b[0m\u001b[0;34m\u001b[0m\u001b[0m\n",
            "\u001b[0;32m<ipython-input-7-0bc2e3c4ac2a>\u001b[0m in \u001b[0;36mmonazp1\u001b[0;34m(tablero)\u001b[0m\n\u001b[1;32m      1\u001b[0m \u001b[0;32mdef\u001b[0m \u001b[0mmonazp1\u001b[0m\u001b[0;34m(\u001b[0m\u001b[0mtablero\u001b[0m\u001b[0;34m)\u001b[0m\u001b[0;34m:\u001b[0m\u001b[0;34m\u001b[0m\u001b[0;34m\u001b[0m\u001b[0m\n\u001b[1;32m      2\u001b[0m   \u001b[0;32mfor\u001b[0m \u001b[0mi\u001b[0m \u001b[0;32min\u001b[0m \u001b[0mtablero\u001b[0m\u001b[0;34m:\u001b[0m\u001b[0;34m\u001b[0m\u001b[0;34m\u001b[0m\u001b[0m\n\u001b[0;32m----> 3\u001b[0;31m     \u001b[0;32mif\u001b[0m \u001b[0mi\u001b[0m \u001b[0;34m==\u001b[0m \u001b[0;34m\" \"\u001b[0m\u001b[0;34m:\u001b[0m\u001b[0;34m\u001b[0m\u001b[0;34m\u001b[0m\u001b[0m\n\u001b[0m\u001b[1;32m      4\u001b[0m       \u001b[0;32mreturn\u001b[0m \u001b[0;32mFalse\u001b[0m\u001b[0;34m\u001b[0m\u001b[0;34m\u001b[0m\u001b[0m\n\u001b[1;32m      5\u001b[0m   \u001b[0;32melse\u001b[0m\u001b[0;34m:\u001b[0m\u001b[0;34m\u001b[0m\u001b[0;34m\u001b[0m\u001b[0m\n",
            "\u001b[0;31mKeyboardInterrupt\u001b[0m: "
          ]
        }
      ]
    }
  ]
}